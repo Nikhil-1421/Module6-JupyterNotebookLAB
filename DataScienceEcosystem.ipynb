{
 "cells": [
  {
   "cell_type": "markdown",
   "id": "0f6cfa63-6785-483a-a938-eb77ecec57a2",
   "metadata": {},
   "source": [
    "# Data Science Tools and Ecosystem"
   ]
  },
  {
   "cell_type": "markdown",
   "id": "11eccccb-0f53-469e-890f-35fc2aa969fd",
   "metadata": {},
   "source": [
    "## In this notebook, Data Science Tools and Ecosystems are summarized"
   ]
  },
  {
   "cell_type": "markdown",
   "id": "0b4a2ca0-0735-4b0a-89c7-5df8ee243eac",
   "metadata": {},
   "source": [
    "### **Objectives**\n",
    "+ Popular Languages in Data Science\n",
    "+ Commonly used Libraries in Data Science\n",
    "+ Popular Development Environment Open Source tools in Data Science\n",
    "+ Arithmetic Expression examples in Python"
   ]
  },
  {
   "cell_type": "markdown",
   "id": "3659c4f9-96bc-4cfc-ae3e-f3f0458d3777",
   "metadata": {},
   "source": [
    "### Some of the popular languages that Data Scientists use are:\n",
    "1. Python\n",
    "2. R\n",
    "3. JAVA"
   ]
  },
  {
   "cell_type": "markdown",
   "id": "578f3aaa-4d6c-432a-bd33-c40581250d8c",
   "metadata": {},
   "source": [
    "### Some of the commonly used libraries used by Data Scientists include:\n",
    "1. Pandas\n",
    "2. Apache Spark\n",
    "3. Matplotlib "
   ]
  },
  {
   "cell_type": "markdown",
   "id": "8dc62af8-832e-4765-a526-0cdf4551c6a7",
   "metadata": {},
   "source": [
    "| Data Science Tools |\n",
    "----------------------\n",
    "| Jupyter Notebooks |\n",
    "| R Studio |\n",
    "| Jupyter Labs |"
   ]
  },
  {
   "cell_type": "markdown",
   "id": "2565283e-1c79-436a-87f0-8f0c68cc7db3",
   "metadata": {},
   "source": [
    "### Below are a few examples of evaluating arithmetic expressions in Python"
   ]
  },
  {
   "cell_type": "code",
   "execution_count": 3,
   "id": "d5f7e698-b18c-4472-8191-97116f1881cd",
   "metadata": {
    "tags": []
   },
   "outputs": [
    {
     "data": {
      "text/plain": [
       "17"
      ]
     },
     "execution_count": 3,
     "metadata": {},
     "output_type": "execute_result"
    }
   ],
   "source": [
    "# This is a simple arithmetic expression to multiply then add integers\n",
    "(3*4)+5"
   ]
  },
  {
   "cell_type": "code",
   "execution_count": 4,
   "id": "6d928ab6-0800-497c-93d2-fcfd4b681a90",
   "metadata": {
    "tags": []
   },
   "outputs": [
    {
     "data": {
      "text/plain": [
       "3.3333333333333335"
      ]
     },
     "execution_count": 4,
     "metadata": {},
     "output_type": "execute_result"
    }
   ],
   "source": [
    "# This will convert 200 minutes to hours by dividing by 60\n",
    "200/60"
   ]
  },
  {
   "cell_type": "markdown",
   "id": "ebd8fda1-6cc2-4c01-9476-eb06e7f2f45a",
   "metadata": {},
   "source": [
    "## Author\n",
    "Nikhil Datta"
   ]
  },
  {
   "cell_type": "code",
   "execution_count": null,
   "id": "16f4f678-3b7a-47f9-84dc-995a3a73bd1a",
   "metadata": {},
   "outputs": [],
   "source": []
  }
 ],
 "metadata": {
  "kernelspec": {
   "display_name": "Python",
   "language": "python",
   "name": "conda-env-python-py"
  },
  "language_info": {
   "codemirror_mode": {
    "name": "ipython",
    "version": 3
   },
   "file_extension": ".py",
   "mimetype": "text/x-python",
   "name": "python",
   "nbconvert_exporter": "python",
   "pygments_lexer": "ipython3",
   "version": "3.7.12"
  }
 },
 "nbformat": 4,
 "nbformat_minor": 5
}
